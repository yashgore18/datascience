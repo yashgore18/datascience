{
 "cells": [
  {
   "cell_type": "code",
   "execution_count": 2,
   "id": "d33b9b23",
   "metadata": {},
   "outputs": [],
   "source": [
    "import numpy as np"
   ]
  },
  {
   "cell_type": "code",
   "execution_count": 19,
   "id": "788e3611",
   "metadata": {},
   "outputs": [],
   "source": [
    "y_predicted = np.array([1,1,0,0,1])\n",
    "y_true = np.array([0.30,0.7,1,0,0.5])"
   ]
  },
  {
   "cell_type": "code",
   "execution_count": 20,
   "id": "d295c6bc",
   "metadata": {},
   "outputs": [],
   "source": [
    "def mae(y_true,y_predicted):\n",
    "    total_error = 0\n",
    "    for yt, yp in zip(y_true,y_predicted):\n",
    "        print(yt,yp)"
   ]
  },
  {
   "cell_type": "code",
   "execution_count": 21,
   "id": "db673861",
   "metadata": {},
   "outputs": [
    {
     "name": "stdout",
     "output_type": "stream",
     "text": [
      "0.3 1\n",
      "0.7 1\n",
      "1.0 0\n",
      "0.0 0\n",
      "0.5 1\n"
     ]
    }
   ],
   "source": [
    "mae(y_true,y_predicted)"
   ]
  },
  {
   "cell_type": "code",
   "execution_count": 25,
   "id": "516abb7d",
   "metadata": {},
   "outputs": [],
   "source": [
    "def mae(y_true,y_predicted):\n",
    "    total_error = 0\n",
    "    for yt, yp in zip(y_true,y_predicted):\n",
    "        total_error  += abs(yt- yp)\n",
    "        print('Total error:',total_error)\n",
    "        mae = total_error/ len(y_true)\n",
    "        return 'MAE:',mae"
   ]
  },
  {
   "cell_type": "code",
   "execution_count": 26,
   "id": "58d0a47b",
   "metadata": {},
   "outputs": [
    {
     "name": "stdout",
     "output_type": "stream",
     "text": [
      "Total error: 0.7\n"
     ]
    },
    {
     "data": {
      "text/plain": [
       "('MAE:', 0.13999999999999999)"
      ]
     },
     "execution_count": 26,
     "metadata": {},
     "output_type": "execute_result"
    }
   ],
   "source": [
    "mae(y_true,y_predicted)"
   ]
  },
  {
   "cell_type": "code",
   "execution_count": 27,
   "id": "ee612c6a",
   "metadata": {},
   "outputs": [
    {
     "data": {
      "text/plain": [
       "0.5"
      ]
     },
     "execution_count": 27,
     "metadata": {},
     "output_type": "execute_result"
    }
   ],
   "source": [
    "np.mean(np.abs(y_predicted-y_true))"
   ]
  },
  {
   "cell_type": "code",
   "execution_count": 28,
   "id": "c6f12022",
   "metadata": {},
   "outputs": [
    {
     "data": {
      "text/plain": [
       "2.5"
      ]
     },
     "execution_count": 28,
     "metadata": {},
     "output_type": "execute_result"
    }
   ],
   "source": [
    "np.sum(np.abs(y_predicted-y_true))#total error"
   ]
  },
  {
   "cell_type": "code",
   "execution_count": null,
   "id": "aeab0dc3",
   "metadata": {},
   "outputs": [],
   "source": []
  },
  {
   "cell_type": "code",
   "execution_count": 31,
   "id": "80794587",
   "metadata": {},
   "outputs": [],
   "source": [
    "eplison = 1e-15"
   ]
  },
  {
   "cell_type": "code",
   "execution_count": 32,
   "id": "b8925f40",
   "metadata": {},
   "outputs": [],
   "source": [
    "y_predicted_new = [max(i,eplison) for i in y_predicted]"
   ]
  },
  {
   "cell_type": "code",
   "execution_count": 33,
   "id": "c5e65a3c",
   "metadata": {},
   "outputs": [
    {
     "data": {
      "text/plain": [
       "[1, 1, 1e-15, 1e-15, 1]"
      ]
     },
     "execution_count": 33,
     "metadata": {},
     "output_type": "execute_result"
    }
   ],
   "source": [
    "y_predicted_new"
   ]
  },
  {
   "cell_type": "code",
   "execution_count": 34,
   "id": "49f963c6",
   "metadata": {},
   "outputs": [
    {
     "data": {
      "text/plain": [
       "[0.999999999999999, 0.999999999999999, 1e-15, 1e-15, 0.999999999999999]"
      ]
     },
     "execution_count": 34,
     "metadata": {},
     "output_type": "execute_result"
    }
   ],
   "source": [
    "y_predicted_new = [min(i,1-eplison) for i in y_predicted_new]\n",
    "y_predicted_new"
   ]
  },
  {
   "cell_type": "code",
   "execution_count": 35,
   "id": "7b5ecce2",
   "metadata": {},
   "outputs": [
    {
     "data": {
      "text/plain": [
       "array([-9.99200722e-16, -9.99200722e-16, -3.45387764e+01, -3.45387764e+01,\n",
       "       -9.99200722e-16])"
      ]
     },
     "execution_count": 35,
     "metadata": {},
     "output_type": "execute_result"
    }
   ],
   "source": [
    "y_predicted_new = np.array(y_predicted_new)\n",
    "np.log(y_predicted_new)"
   ]
  },
  {
   "cell_type": "code",
   "execution_count": 36,
   "id": "29d657a6",
   "metadata": {},
   "outputs": [
    {
     "data": {
      "text/plain": [
       "17.2696280766844"
      ]
     },
     "execution_count": 36,
     "metadata": {},
     "output_type": "execute_result"
    }
   ],
   "source": [
    "-np.mean(y_true*np.log(y_predicted_new)+(1-y_true)*np.log(1-y_predicted_new))"
   ]
  },
  {
   "cell_type": "code",
   "execution_count": null,
   "id": "0dc79da5",
   "metadata": {},
   "outputs": [],
   "source": [
    " "
   ]
  }
 ],
 "metadata": {
  "kernelspec": {
   "display_name": "Python 3 (ipykernel)",
   "language": "python",
   "name": "python3"
  },
  "language_info": {
   "codemirror_mode": {
    "name": "ipython",
    "version": 3
   },
   "file_extension": ".py",
   "mimetype": "text/x-python",
   "name": "python",
   "nbconvert_exporter": "python",
   "pygments_lexer": "ipython3",
   "version": "3.9.13"
  }
 },
 "nbformat": 4,
 "nbformat_minor": 5
}
